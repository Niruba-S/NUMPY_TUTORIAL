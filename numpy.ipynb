{
 "cells": [
  {
   "cell_type": "code",
   "execution_count": 1,
   "id": "803457c5",
   "metadata": {
    "execution": {
     "iopub.execute_input": "2024-03-15T05:18:23.716819Z",
     "iopub.status.busy": "2024-03-15T05:18:23.716442Z",
     "iopub.status.idle": "2024-03-15T05:18:23.728605Z",
     "shell.execute_reply": "2024-03-15T05:18:23.727647Z"
    },
    "papermill": {
     "duration": 0.043771,
     "end_time": "2024-03-15T05:18:23.731029",
     "exception": false,
     "start_time": "2024-03-15T05:18:23.687258",
     "status": "completed"
    },
    "tags": []
   },
   "outputs": [],
   "source": [
    "import numpy as np"
   ]
  },
  {
   "cell_type": "markdown",
   "id": "c8ad479d",
   "metadata": {
    "papermill": {
     "duration": 0.026334,
     "end_time": "2024-03-15T05:18:23.784819",
     "exception": false,
     "start_time": "2024-03-15T05:18:23.758485",
     "status": "completed"
    },
    "tags": []
   },
   "source": [
    "**PART 1**"
   ]
  },
  {
   "cell_type": "markdown",
   "id": "00f9ccda",
   "metadata": {
    "papermill": {
     "duration": 0.025917,
     "end_time": "2024-03-15T05:18:23.836965",
     "exception": false,
     "start_time": "2024-03-15T05:18:23.811048",
     "status": "completed"
    },
    "tags": []
   },
   "source": [
    "**ADVANTAGE OF NUMPY ARRAY OVER LISTS**"
   ]
  },
  {
   "cell_type": "code",
   "execution_count": 2,
   "id": "a4a678ff",
   "metadata": {
    "execution": {
     "iopub.execute_input": "2024-03-15T05:18:23.895501Z",
     "iopub.status.busy": "2024-03-15T05:18:23.894857Z",
     "iopub.status.idle": "2024-03-15T05:18:23.900850Z",
     "shell.execute_reply": "2024-03-15T05:18:23.899754Z"
    },
    "papermill": {
     "duration": 0.039568,
     "end_time": "2024-03-15T05:18:23.903412",
     "exception": false,
     "start_time": "2024-03-15T05:18:23.863844",
     "status": "completed"
    },
    "tags": []
   },
   "outputs": [
    {
     "name": "stdout",
     "output_type": "stream",
     "text": [
      "[1, 2, 3, 4, 5]\n"
     ]
    }
   ],
   "source": [
    "lst=[1,2,3,4,5] \n",
    "print(lst)"
   ]
  },
  {
   "cell_type": "code",
   "execution_count": 3,
   "id": "f0828273",
   "metadata": {
    "execution": {
     "iopub.execute_input": "2024-03-15T05:18:23.958541Z",
     "iopub.status.busy": "2024-03-15T05:18:23.957873Z",
     "iopub.status.idle": "2024-03-15T05:18:23.967019Z",
     "shell.execute_reply": "2024-03-15T05:18:23.965957Z"
    },
    "papermill": {
     "duration": 0.039561,
     "end_time": "2024-03-15T05:18:23.969523",
     "exception": false,
     "start_time": "2024-03-15T05:18:23.929962",
     "status": "completed"
    },
    "tags": []
   },
   "outputs": [
    {
     "name": "stdout",
     "output_type": "stream",
     "text": [
      "1D ARRAY\n",
      "[1 2 3 4 5]\n",
      "2D ARRAY\n",
      "[[ 1  2  3  4  5]\n",
      " [ 6  7  8  9 10]]\n"
     ]
    }
   ],
   "source": [
    "print(\"1D ARRAY\")\n",
    "a=np.array([1,2,3,4,5])\n",
    "print(a)\n",
    "\n",
    "#---------------------\n",
    "\n",
    "print(\"2D ARRAY\")\n",
    "b=np.array([[1,2,3,4,5],[6,7,8,9,10]])\n",
    "print(b)"
   ]
  },
  {
   "cell_type": "code",
   "execution_count": 4,
   "id": "532fd2c7",
   "metadata": {
    "execution": {
     "iopub.execute_input": "2024-03-15T05:18:24.025240Z",
     "iopub.status.busy": "2024-03-15T05:18:24.024836Z",
     "iopub.status.idle": "2024-03-15T05:18:24.032619Z",
     "shell.execute_reply": "2024-03-15T05:18:24.031495Z"
    },
    "papermill": {
     "duration": 0.038353,
     "end_time": "2024-03-15T05:18:24.034990",
     "exception": false,
     "start_time": "2024-03-15T05:18:23.996637",
     "status": "completed"
    },
    "tags": []
   },
   "outputs": [
    {
     "data": {
      "text/plain": [
       "numpy.ndarray"
      ]
     },
     "execution_count": 4,
     "metadata": {},
     "output_type": "execute_result"
    }
   ],
   "source": [
    "type(a)"
   ]
  },
  {
   "cell_type": "code",
   "execution_count": 5,
   "id": "8a246c31",
   "metadata": {
    "execution": {
     "iopub.execute_input": "2024-03-15T05:18:24.089558Z",
     "iopub.status.busy": "2024-03-15T05:18:24.089135Z",
     "iopub.status.idle": "2024-03-15T05:18:24.094655Z",
     "shell.execute_reply": "2024-03-15T05:18:24.093396Z"
    },
    "papermill": {
     "duration": 0.0362,
     "end_time": "2024-03-15T05:18:24.097690",
     "exception": false,
     "start_time": "2024-03-15T05:18:24.061490",
     "status": "completed"
    },
    "tags": []
   },
   "outputs": [
    {
     "name": "stdout",
     "output_type": "stream",
     "text": [
      "5\n",
      "10\n"
     ]
    }
   ],
   "source": [
    "print(a.size)\n",
    "print(b.size)"
   ]
  },
  {
   "cell_type": "code",
   "execution_count": 6,
   "id": "1b520532",
   "metadata": {
    "execution": {
     "iopub.execute_input": "2024-03-15T05:18:24.153254Z",
     "iopub.status.busy": "2024-03-15T05:18:24.152856Z",
     "iopub.status.idle": "2024-03-15T05:18:24.158378Z",
     "shell.execute_reply": "2024-03-15T05:18:24.157271Z"
    },
    "papermill": {
     "duration": 0.036796,
     "end_time": "2024-03-15T05:18:24.161097",
     "exception": false,
     "start_time": "2024-03-15T05:18:24.124301",
     "status": "completed"
    },
    "tags": []
   },
   "outputs": [
    {
     "name": "stdout",
     "output_type": "stream",
     "text": [
      "(5,)\n",
      "(2, 5)\n"
     ]
    }
   ],
   "source": [
    "print(a.shape)\n",
    "print(b.shape)"
   ]
  },
  {
   "cell_type": "code",
   "execution_count": 7,
   "id": "88cc1930",
   "metadata": {
    "execution": {
     "iopub.execute_input": "2024-03-15T05:18:24.216020Z",
     "iopub.status.busy": "2024-03-15T05:18:24.215651Z",
     "iopub.status.idle": "2024-03-15T05:18:24.220354Z",
     "shell.execute_reply": "2024-03-15T05:18:24.219453Z"
    },
    "papermill": {
     "duration": 0.035781,
     "end_time": "2024-03-15T05:18:24.223301",
     "exception": false,
     "start_time": "2024-03-15T05:18:24.187520",
     "status": "completed"
    },
    "tags": []
   },
   "outputs": [
    {
     "name": "stdout",
     "output_type": "stream",
     "text": [
      "int64\n",
      "int64\n"
     ]
    }
   ],
   "source": [
    "print(a.dtype)\n",
    "print(b.dtype)"
   ]
  },
  {
   "cell_type": "code",
   "execution_count": 8,
   "id": "43bb016f",
   "metadata": {
    "execution": {
     "iopub.execute_input": "2024-03-15T05:18:24.281872Z",
     "iopub.status.busy": "2024-03-15T05:18:24.281209Z",
     "iopub.status.idle": "2024-03-15T05:18:24.287915Z",
     "shell.execute_reply": "2024-03-15T05:18:24.286686Z"
    },
    "papermill": {
     "duration": 0.039405,
     "end_time": "2024-03-15T05:18:24.290357",
     "exception": false,
     "start_time": "2024-03-15T05:18:24.250952",
     "status": "completed"
    },
    "tags": []
   },
   "outputs": [
    {
     "name": "stdout",
     "output_type": "stream",
     "text": [
      "[[ 1  2  3  5]\n",
      " [ 6  7  8 10]\n",
      " [11 12 13 15]]\n"
     ]
    }
   ],
   "source": [
    "d=np.array([[1,6,11],\n",
    "            [2,7,12],\n",
    "            [3,8,13],\n",
    "            [5,10,15]])\n",
    "print(d.transpose())"
   ]
  },
  {
   "cell_type": "markdown",
   "id": "4bfd1bc8",
   "metadata": {
    "papermill": {
     "duration": 0.091026,
     "end_time": "2024-03-15T05:18:24.409737",
     "exception": false,
     "start_time": "2024-03-15T05:18:24.318711",
     "status": "completed"
    },
    "tags": []
   },
   "source": [
    "**PART 2**"
   ]
  },
  {
   "cell_type": "markdown",
   "id": "8adb461c",
   "metadata": {
    "papermill": {
     "duration": 0.02658,
     "end_time": "2024-03-15T05:18:24.464347",
     "exception": false,
     "start_time": "2024-03-15T05:18:24.437767",
     "status": "completed"
    },
    "tags": []
   },
   "source": [
    "np.empty((rows,cols),dtype)"
   ]
  },
  {
   "cell_type": "code",
   "execution_count": 9,
   "id": "7a2b441c",
   "metadata": {
    "execution": {
     "iopub.execute_input": "2024-03-15T05:18:24.523510Z",
     "iopub.status.busy": "2024-03-15T05:18:24.522526Z",
     "iopub.status.idle": "2024-03-15T05:18:24.529651Z",
     "shell.execute_reply": "2024-03-15T05:18:24.528433Z"
    },
    "papermill": {
     "duration": 0.04154,
     "end_time": "2024-03-15T05:18:24.532673",
     "exception": false,
     "start_time": "2024-03-15T05:18:24.491133",
     "status": "completed"
    },
    "tags": []
   },
   "outputs": [
    {
     "data": {
      "text/plain": [
       "array([[99844987127600,              0,   489626271861,   433791696995],\n",
       "       [  498216206368,   468151435365,   476741369968,   416611827826],\n",
       "       [  450971566194,   519691042924,   502511173664,   416611827822],\n",
       "       [  416611827830,   463856468073,   420906795105,   433791697004]])"
      ]
     },
     "execution_count": 9,
     "metadata": {},
     "output_type": "execute_result"
    }
   ],
   "source": [
    "np.empty((4,4),dtype=int)"
   ]
  },
  {
   "cell_type": "code",
   "execution_count": 10,
   "id": "367b6794",
   "metadata": {
    "execution": {
     "iopub.execute_input": "2024-03-15T05:18:24.590203Z",
     "iopub.status.busy": "2024-03-15T05:18:24.589588Z",
     "iopub.status.idle": "2024-03-15T05:18:24.597167Z",
     "shell.execute_reply": "2024-03-15T05:18:24.596022Z"
    },
    "papermill": {
     "duration": 0.038618,
     "end_time": "2024-03-15T05:18:24.599681",
     "exception": false,
     "start_time": "2024-03-15T05:18:24.561063",
     "status": "completed"
    },
    "tags": []
   },
   "outputs": [
    {
     "data": {
      "text/plain": [
       "array([1., 1., 1., 1., 1., 1.])"
      ]
     },
     "execution_count": 10,
     "metadata": {},
     "output_type": "execute_result"
    }
   ],
   "source": [
    "x=np.ones(6)\n",
    "x"
   ]
  },
  {
   "cell_type": "code",
   "execution_count": 11,
   "id": "fe012386",
   "metadata": {
    "execution": {
     "iopub.execute_input": "2024-03-15T05:18:24.656807Z",
     "iopub.status.busy": "2024-03-15T05:18:24.656409Z",
     "iopub.status.idle": "2024-03-15T05:18:24.664597Z",
     "shell.execute_reply": "2024-03-15T05:18:24.663307Z"
    },
    "papermill": {
     "duration": 0.039914,
     "end_time": "2024-03-15T05:18:24.666978",
     "exception": false,
     "start_time": "2024-03-15T05:18:24.627064",
     "status": "completed"
    },
    "tags": []
   },
   "outputs": [
    {
     "data": {
      "text/plain": [
       "array([[1., 1., 1., 1., 1.],\n",
       "       [1., 1., 1., 1., 1.],\n",
       "       [1., 1., 1., 1., 1.]])"
      ]
     },
     "execution_count": 11,
     "metadata": {},
     "output_type": "execute_result"
    }
   ],
   "source": [
    "y=np.ones((3,5))\n",
    "y"
   ]
  },
  {
   "cell_type": "code",
   "execution_count": 12,
   "id": "73cde9fa",
   "metadata": {
    "execution": {
     "iopub.execute_input": "2024-03-15T05:18:24.724997Z",
     "iopub.status.busy": "2024-03-15T05:18:24.724584Z",
     "iopub.status.idle": "2024-03-15T05:18:24.732093Z",
     "shell.execute_reply": "2024-03-15T05:18:24.731009Z"
    },
    "papermill": {
     "duration": 0.040231,
     "end_time": "2024-03-15T05:18:24.734809",
     "exception": false,
     "start_time": "2024-03-15T05:18:24.694578",
     "status": "completed"
    },
    "tags": []
   },
   "outputs": [
    {
     "data": {
      "text/plain": [
       "array([[1, 1, 1, 1, 1],\n",
       "       [1, 1, 1, 1, 1],\n",
       "       [1, 1, 1, 1, 1]])"
      ]
     },
     "execution_count": 12,
     "metadata": {},
     "output_type": "execute_result"
    }
   ],
   "source": [
    "z=np.ones((3,5),dtype=int)\n",
    "z"
   ]
  },
  {
   "cell_type": "code",
   "execution_count": 13,
   "id": "a34395b9",
   "metadata": {
    "execution": {
     "iopub.execute_input": "2024-03-15T05:18:24.792708Z",
     "iopub.status.busy": "2024-03-15T05:18:24.792307Z",
     "iopub.status.idle": "2024-03-15T05:18:24.799913Z",
     "shell.execute_reply": "2024-03-15T05:18:24.798684Z"
    },
    "papermill": {
     "duration": 0.039971,
     "end_time": "2024-03-15T05:18:24.802545",
     "exception": false,
     "start_time": "2024-03-15T05:18:24.762574",
     "status": "completed"
    },
    "tags": []
   },
   "outputs": [
    {
     "data": {
      "text/plain": [
       "array([0., 0., 0.])"
      ]
     },
     "execution_count": 13,
     "metadata": {},
     "output_type": "execute_result"
    }
   ],
   "source": [
    "x=np.zeros(3)\n",
    "x"
   ]
  },
  {
   "cell_type": "code",
   "execution_count": 14,
   "id": "e9557998",
   "metadata": {
    "execution": {
     "iopub.execute_input": "2024-03-15T05:18:24.859724Z",
     "iopub.status.busy": "2024-03-15T05:18:24.859344Z",
     "iopub.status.idle": "2024-03-15T05:18:24.867168Z",
     "shell.execute_reply": "2024-03-15T05:18:24.865965Z"
    },
    "papermill": {
     "duration": 0.039297,
     "end_time": "2024-03-15T05:18:24.869732",
     "exception": false,
     "start_time": "2024-03-15T05:18:24.830435",
     "status": "completed"
    },
    "tags": []
   },
   "outputs": [
    {
     "data": {
      "text/plain": [
       "array([[0., 0., 0., 0., 0.],\n",
       "       [0., 0., 0., 0., 0.],\n",
       "       [0., 0., 0., 0., 0.]])"
      ]
     },
     "execution_count": 14,
     "metadata": {},
     "output_type": "execute_result"
    }
   ],
   "source": [
    "y=np.zeros((3,5))\n",
    "y"
   ]
  },
  {
   "cell_type": "code",
   "execution_count": 15,
   "id": "78b8c3c9",
   "metadata": {
    "execution": {
     "iopub.execute_input": "2024-03-15T05:18:24.930842Z",
     "iopub.status.busy": "2024-03-15T05:18:24.930446Z",
     "iopub.status.idle": "2024-03-15T05:18:24.938792Z",
     "shell.execute_reply": "2024-03-15T05:18:24.937451Z"
    },
    "papermill": {
     "duration": 0.040928,
     "end_time": "2024-03-15T05:18:24.941415",
     "exception": false,
     "start_time": "2024-03-15T05:18:24.900487",
     "status": "completed"
    },
    "tags": []
   },
   "outputs": [
    {
     "data": {
      "text/plain": [
       "array([[0, 0, 0, 0, 0],\n",
       "       [0, 0, 0, 0, 0],\n",
       "       [0, 0, 0, 0, 0]])"
      ]
     },
     "execution_count": 15,
     "metadata": {},
     "output_type": "execute_result"
    }
   ],
   "source": [
    "z=np.zeros((3,5),dtype=int)\n",
    "z"
   ]
  },
  {
   "cell_type": "code",
   "execution_count": 16,
   "id": "e60cd46b",
   "metadata": {
    "execution": {
     "iopub.execute_input": "2024-03-15T05:18:25.000812Z",
     "iopub.status.busy": "2024-03-15T05:18:25.000441Z",
     "iopub.status.idle": "2024-03-15T05:18:25.007700Z",
     "shell.execute_reply": "2024-03-15T05:18:25.006895Z"
    },
    "papermill": {
     "duration": 0.038525,
     "end_time": "2024-03-15T05:18:25.009864",
     "exception": false,
     "start_time": "2024-03-15T05:18:24.971339",
     "status": "completed"
    },
    "tags": []
   },
   "outputs": [
    {
     "data": {
      "text/plain": [
       "array([['1', '1', '1', '1', '1'],\n",
       "       ['1', '1', '1', '1', '1'],\n",
       "       ['1', '1', '1', '1', '1']], dtype='<U1')"
      ]
     },
     "execution_count": 16,
     "metadata": {},
     "output_type": "execute_result"
    }
   ],
   "source": [
    "z=np.ones((3,5),dtype=str)\n",
    "z"
   ]
  },
  {
   "cell_type": "code",
   "execution_count": 17,
   "id": "416fe25d",
   "metadata": {
    "execution": {
     "iopub.execute_input": "2024-03-15T05:18:25.068456Z",
     "iopub.status.busy": "2024-03-15T05:18:25.068060Z",
     "iopub.status.idle": "2024-03-15T05:18:25.074872Z",
     "shell.execute_reply": "2024-03-15T05:18:25.073999Z"
    },
    "papermill": {
     "duration": 0.0392,
     "end_time": "2024-03-15T05:18:25.077116",
     "exception": false,
     "start_time": "2024-03-15T05:18:25.037916",
     "status": "completed"
    },
    "tags": []
   },
   "outputs": [
    {
     "data": {
      "text/plain": [
       "array([['', '', '', '', ''],\n",
       "       ['', '', '', '', ''],\n",
       "       ['', '', '', '', '']], dtype='<U1')"
      ]
     },
     "execution_count": 17,
     "metadata": {},
     "output_type": "execute_result"
    }
   ],
   "source": [
    "z=np.zeros((3,5),dtype=str)\n",
    "z"
   ]
  },
  {
   "cell_type": "code",
   "execution_count": 18,
   "id": "aa4fde80",
   "metadata": {
    "execution": {
     "iopub.execute_input": "2024-03-15T05:18:25.137525Z",
     "iopub.status.busy": "2024-03-15T05:18:25.137089Z",
     "iopub.status.idle": "2024-03-15T05:18:25.144769Z",
     "shell.execute_reply": "2024-03-15T05:18:25.143641Z"
    },
    "papermill": {
     "duration": 0.040393,
     "end_time": "2024-03-15T05:18:25.147088",
     "exception": false,
     "start_time": "2024-03-15T05:18:25.106695",
     "status": "completed"
    },
    "tags": []
   },
   "outputs": [
    {
     "data": {
      "text/plain": [
       "array([[False, False, False, False, False],\n",
       "       [False, False, False, False, False],\n",
       "       [False, False, False, False, False]])"
      ]
     },
     "execution_count": 18,
     "metadata": {},
     "output_type": "execute_result"
    }
   ],
   "source": [
    "z=np.zeros((3,5),dtype=bool)\n",
    "z"
   ]
  },
  {
   "cell_type": "code",
   "execution_count": 19,
   "id": "dd77f455",
   "metadata": {
    "execution": {
     "iopub.execute_input": "2024-03-15T05:18:25.208709Z",
     "iopub.status.busy": "2024-03-15T05:18:25.208324Z",
     "iopub.status.idle": "2024-03-15T05:18:25.215394Z",
     "shell.execute_reply": "2024-03-15T05:18:25.214511Z"
    },
    "papermill": {
     "duration": 0.040685,
     "end_time": "2024-03-15T05:18:25.217692",
     "exception": false,
     "start_time": "2024-03-15T05:18:25.177007",
     "status": "completed"
    },
    "tags": []
   },
   "outputs": [
    {
     "data": {
      "text/plain": [
       "array([[ True,  True,  True,  True,  True],\n",
       "       [ True,  True,  True,  True,  True],\n",
       "       [ True,  True,  True,  True,  True]])"
      ]
     },
     "execution_count": 19,
     "metadata": {},
     "output_type": "execute_result"
    }
   ],
   "source": [
    "z=np.ones((3,5),dtype=bool)\n",
    "z"
   ]
  },
  {
   "cell_type": "markdown",
   "id": "80fb75d0",
   "metadata": {
    "papermill": {
     "duration": 0.029284,
     "end_time": "2024-03-15T05:18:25.276140",
     "exception": false,
     "start_time": "2024-03-15T05:18:25.246856",
     "status": "completed"
    },
    "tags": []
   },
   "source": [
    "**PART 3**"
   ]
  },
  {
   "cell_type": "code",
   "execution_count": 20,
   "id": "70040125",
   "metadata": {
    "execution": {
     "iopub.execute_input": "2024-03-15T05:18:25.339524Z",
     "iopub.status.busy": "2024-03-15T05:18:25.339137Z",
     "iopub.status.idle": "2024-03-15T05:18:25.344683Z",
     "shell.execute_reply": "2024-03-15T05:18:25.343905Z"
    },
    "papermill": {
     "duration": 0.040472,
     "end_time": "2024-03-15T05:18:25.347349",
     "exception": false,
     "start_time": "2024-03-15T05:18:25.306877",
     "status": "completed"
    },
    "tags": []
   },
   "outputs": [
    {
     "data": {
      "text/plain": [
       "array([ 1,  2,  3,  4,  5,  6,  7,  8,  9, 10, 11, 12, 13, 14, 15, 16, 17,\n",
       "       18, 19])"
      ]
     },
     "execution_count": 20,
     "metadata": {},
     "output_type": "execute_result"
    }
   ],
   "source": [
    "a=np.arange(1,20)\n",
    "a"
   ]
  },
  {
   "cell_type": "code",
   "execution_count": 21,
   "id": "dda2b825",
   "metadata": {
    "execution": {
     "iopub.execute_input": "2024-03-15T05:18:25.407059Z",
     "iopub.status.busy": "2024-03-15T05:18:25.406495Z",
     "iopub.status.idle": "2024-03-15T05:18:25.414050Z",
     "shell.execute_reply": "2024-03-15T05:18:25.413301Z"
    },
    "papermill": {
     "duration": 0.040192,
     "end_time": "2024-03-15T05:18:25.416184",
     "exception": false,
     "start_time": "2024-03-15T05:18:25.375992",
     "status": "completed"
    },
    "tags": []
   },
   "outputs": [
    {
     "data": {
      "text/plain": [
       "array([ 1,  3,  5,  7,  9, 11, 13, 15, 17, 19])"
      ]
     },
     "execution_count": 21,
     "metadata": {},
     "output_type": "execute_result"
    }
   ],
   "source": [
    "a=np.arange(1,20,2)\n",
    "a"
   ]
  },
  {
   "cell_type": "markdown",
   "id": "1ee2c6b1",
   "metadata": {
    "papermill": {
     "duration": 0.028796,
     "end_time": "2024-03-15T05:18:25.473923",
     "exception": false,
     "start_time": "2024-03-15T05:18:25.445127",
     "status": "completed"
    },
    "tags": []
   },
   "source": [
    "arr.reshape(rows,cols)"
   ]
  },
  {
   "cell_type": "code",
   "execution_count": 22,
   "id": "2568c225",
   "metadata": {
    "execution": {
     "iopub.execute_input": "2024-03-15T05:18:25.534202Z",
     "iopub.status.busy": "2024-03-15T05:18:25.533772Z",
     "iopub.status.idle": "2024-03-15T05:18:25.541254Z",
     "shell.execute_reply": "2024-03-15T05:18:25.540210Z"
    },
    "papermill": {
     "duration": 0.040246,
     "end_time": "2024-03-15T05:18:25.543649",
     "exception": false,
     "start_time": "2024-03-15T05:18:25.503403",
     "status": "completed"
    },
    "tags": []
   },
   "outputs": [
    {
     "data": {
      "text/plain": [
       "array([[ 1,  3,  5,  7,  9],\n",
       "       [11, 13, 15, 17, 19]])"
      ]
     },
     "execution_count": 22,
     "metadata": {},
     "output_type": "execute_result"
    }
   ],
   "source": [
    "a=a.reshape((2,5))\n",
    "a"
   ]
  },
  {
   "cell_type": "code",
   "execution_count": 23,
   "id": "81304109",
   "metadata": {
    "execution": {
     "iopub.execute_input": "2024-03-15T05:18:25.603391Z",
     "iopub.status.busy": "2024-03-15T05:18:25.602962Z",
     "iopub.status.idle": "2024-03-15T05:18:25.610145Z",
     "shell.execute_reply": "2024-03-15T05:18:25.609000Z"
    },
    "papermill": {
     "duration": 0.03982,
     "end_time": "2024-03-15T05:18:25.612717",
     "exception": false,
     "start_time": "2024-03-15T05:18:25.572897",
     "status": "completed"
    },
    "tags": []
   },
   "outputs": [
    {
     "data": {
      "text/plain": [
       "array([ 1,  3,  5,  7,  9, 11, 13, 15, 17, 19])"
      ]
     },
     "execution_count": 23,
     "metadata": {},
     "output_type": "execute_result"
    }
   ],
   "source": [
    "a=a.flatten()\n",
    "a"
   ]
  },
  {
   "cell_type": "code",
   "execution_count": 24,
   "id": "11c9e099",
   "metadata": {
    "execution": {
     "iopub.execute_input": "2024-03-15T05:18:25.674734Z",
     "iopub.status.busy": "2024-03-15T05:18:25.674324Z",
     "iopub.status.idle": "2024-03-15T05:18:25.681287Z",
     "shell.execute_reply": "2024-03-15T05:18:25.680281Z"
    },
    "papermill": {
     "duration": 0.040668,
     "end_time": "2024-03-15T05:18:25.683566",
     "exception": false,
     "start_time": "2024-03-15T05:18:25.642898",
     "status": "completed"
    },
    "tags": []
   },
   "outputs": [
    {
     "data": {
      "text/plain": [
       "array([ 1,  3,  5,  7,  9, 11, 13, 15, 17, 19])"
      ]
     },
     "execution_count": 24,
     "metadata": {},
     "output_type": "execute_result"
    }
   ],
   "source": [
    "a=a.ravel()\n",
    "a"
   ]
  },
  {
   "cell_type": "markdown",
   "id": "e7d08331",
   "metadata": {
    "papermill": {
     "duration": 0.029766,
     "end_time": "2024-03-15T05:18:25.742914",
     "exception": false,
     "start_time": "2024-03-15T05:18:25.713148",
     "status": "completed"
    },
    "tags": []
   },
   "source": [
    "**PART 4**"
   ]
  },
  {
   "cell_type": "markdown",
   "id": "807175a9",
   "metadata": {
    "papermill": {
     "duration": 0.029891,
     "end_time": "2024-03-15T05:18:25.802086",
     "exception": false,
     "start_time": "2024-03-15T05:18:25.772195",
     "status": "completed"
    },
    "tags": []
   },
   "source": [
    "**ARRAY SLICING**"
   ]
  },
  {
   "cell_type": "code",
   "execution_count": 25,
   "id": "655f4ea6",
   "metadata": {
    "execution": {
     "iopub.execute_input": "2024-03-15T05:18:25.862596Z",
     "iopub.status.busy": "2024-03-15T05:18:25.862160Z",
     "iopub.status.idle": "2024-03-15T05:18:25.869449Z",
     "shell.execute_reply": "2024-03-15T05:18:25.868600Z"
    },
    "papermill": {
     "duration": 0.040282,
     "end_time": "2024-03-15T05:18:25.871701",
     "exception": false,
     "start_time": "2024-03-15T05:18:25.831419",
     "status": "completed"
    },
    "tags": []
   },
   "outputs": [
    {
     "data": {
      "text/plain": [
       "array([[ 1,  2,  3,  4,  5],\n",
       "       [ 6,  7,  8,  9, 10],\n",
       "       [11, 12, 13, 14, 15],\n",
       "       [16, 17, 18, 19, 20],\n",
       "       [21, 22, 23, 24, 25],\n",
       "       [26, 27, 28, 29, 30],\n",
       "       [31, 32, 33, 34, 35],\n",
       "       [36, 37, 38, 39, 40],\n",
       "       [41, 42, 43, 44, 45],\n",
       "       [46, 47, 48, 49, 50]])"
      ]
     },
     "execution_count": 25,
     "metadata": {},
     "output_type": "execute_result"
    }
   ],
   "source": [
    "a=np.arange(1,51)\n",
    "a=a.reshape(10,5)\n",
    "a\n"
   ]
  },
  {
   "cell_type": "code",
   "execution_count": 26,
   "id": "195e0a7f",
   "metadata": {
    "execution": {
     "iopub.execute_input": "2024-03-15T05:18:25.935450Z",
     "iopub.status.busy": "2024-03-15T05:18:25.935027Z",
     "iopub.status.idle": "2024-03-15T05:18:25.941624Z",
     "shell.execute_reply": "2024-03-15T05:18:25.940626Z"
    },
    "papermill": {
     "duration": 0.042672,
     "end_time": "2024-03-15T05:18:25.943799",
     "exception": false,
     "start_time": "2024-03-15T05:18:25.901127",
     "status": "completed"
    },
    "tags": []
   },
   "outputs": [
    {
     "data": {
      "text/plain": [
       "array([1, 2, 3, 4, 5])"
      ]
     },
     "execution_count": 26,
     "metadata": {},
     "output_type": "execute_result"
    }
   ],
   "source": [
    "a[0]"
   ]
  },
  {
   "cell_type": "code",
   "execution_count": 27,
   "id": "1b9d4a16",
   "metadata": {
    "execution": {
     "iopub.execute_input": "2024-03-15T05:18:26.005047Z",
     "iopub.status.busy": "2024-03-15T05:18:26.004626Z",
     "iopub.status.idle": "2024-03-15T05:18:26.011051Z",
     "shell.execute_reply": "2024-03-15T05:18:26.010302Z"
    },
    "papermill": {
     "duration": 0.039958,
     "end_time": "2024-03-15T05:18:26.013524",
     "exception": false,
     "start_time": "2024-03-15T05:18:25.973566",
     "status": "completed"
    },
    "tags": []
   },
   "outputs": [
    {
     "data": {
      "text/plain": [
       "12"
      ]
     },
     "execution_count": 27,
     "metadata": {},
     "output_type": "execute_result"
    }
   ],
   "source": [
    "a[2,1]"
   ]
  },
  {
   "cell_type": "code",
   "execution_count": 28,
   "id": "ae96024a",
   "metadata": {
    "execution": {
     "iopub.execute_input": "2024-03-15T05:18:26.075473Z",
     "iopub.status.busy": "2024-03-15T05:18:26.075072Z",
     "iopub.status.idle": "2024-03-15T05:18:26.082012Z",
     "shell.execute_reply": "2024-03-15T05:18:26.080763Z"
    },
    "papermill": {
     "duration": 0.040811,
     "end_time": "2024-03-15T05:18:26.084238",
     "exception": false,
     "start_time": "2024-03-15T05:18:26.043427",
     "status": "completed"
    },
    "tags": []
   },
   "outputs": [
    {
     "data": {
      "text/plain": [
       "array([[11, 12, 13, 14, 15],\n",
       "       [16, 17, 18, 19, 20],\n",
       "       [21, 22, 23, 24, 25]])"
      ]
     },
     "execution_count": 28,
     "metadata": {},
     "output_type": "execute_result"
    }
   ],
   "source": [
    "a[2:5]"
   ]
  },
  {
   "cell_type": "code",
   "execution_count": 29,
   "id": "c3ee635d",
   "metadata": {
    "execution": {
     "iopub.execute_input": "2024-03-15T05:18:26.146211Z",
     "iopub.status.busy": "2024-03-15T05:18:26.145805Z",
     "iopub.status.idle": "2024-03-15T05:18:26.152590Z",
     "shell.execute_reply": "2024-03-15T05:18:26.151675Z"
    },
    "papermill": {
     "duration": 0.04008,
     "end_time": "2024-03-15T05:18:26.154745",
     "exception": false,
     "start_time": "2024-03-15T05:18:26.114665",
     "status": "completed"
    },
    "tags": []
   },
   "outputs": [
    {
     "data": {
      "text/plain": [
       "array([[ 1,  2,  3,  4,  5],\n",
       "       [ 6,  7,  8,  9, 10],\n",
       "       [11, 12, 13, 14, 15],\n",
       "       [16, 17, 18, 19, 20],\n",
       "       [21, 22, 23, 24, 25],\n",
       "       [26, 27, 28, 29, 30],\n",
       "       [31, 32, 33, 34, 35],\n",
       "       [36, 37, 38, 39, 40],\n",
       "       [41, 42, 43, 44, 45],\n",
       "       [46, 47, 48, 49, 50]])"
      ]
     },
     "execution_count": 29,
     "metadata": {},
     "output_type": "execute_result"
    }
   ],
   "source": [
    "a[0:100]"
   ]
  },
  {
   "cell_type": "code",
   "execution_count": 30,
   "id": "1d4c470f",
   "metadata": {
    "execution": {
     "iopub.execute_input": "2024-03-15T05:18:26.216754Z",
     "iopub.status.busy": "2024-03-15T05:18:26.216348Z",
     "iopub.status.idle": "2024-03-15T05:18:26.223422Z",
     "shell.execute_reply": "2024-03-15T05:18:26.222268Z"
    },
    "papermill": {
     "duration": 0.041134,
     "end_time": "2024-03-15T05:18:26.225879",
     "exception": false,
     "start_time": "2024-03-15T05:18:26.184745",
     "status": "completed"
    },
    "tags": []
   },
   "outputs": [
    {
     "data": {
      "text/plain": [
       "array([ 3,  8, 13, 18, 23, 28, 33, 38, 43, 48])"
      ]
     },
     "execution_count": 30,
     "metadata": {},
     "output_type": "execute_result"
    }
   ],
   "source": [
    "a[:,2]"
   ]
  },
  {
   "cell_type": "code",
   "execution_count": 31,
   "id": "19923c21",
   "metadata": {
    "execution": {
     "iopub.execute_input": "2024-03-15T05:18:26.289495Z",
     "iopub.status.busy": "2024-03-15T05:18:26.289074Z",
     "iopub.status.idle": "2024-03-15T05:18:26.295914Z",
     "shell.execute_reply": "2024-03-15T05:18:26.294875Z"
    },
    "papermill": {
     "duration": 0.041174,
     "end_time": "2024-03-15T05:18:26.298271",
     "exception": false,
     "start_time": "2024-03-15T05:18:26.257097",
     "status": "completed"
    },
    "tags": []
   },
   "outputs": [
    {
     "data": {
      "text/plain": [
       "array([ 6,  7,  8,  9, 10])"
      ]
     },
     "execution_count": 31,
     "metadata": {},
     "output_type": "execute_result"
    }
   ],
   "source": [
    "a[1,:]"
   ]
  },
  {
   "cell_type": "code",
   "execution_count": 32,
   "id": "71a2afde",
   "metadata": {
    "execution": {
     "iopub.execute_input": "2024-03-15T05:18:26.361819Z",
     "iopub.status.busy": "2024-03-15T05:18:26.361405Z",
     "iopub.status.idle": "2024-03-15T05:18:26.368021Z",
     "shell.execute_reply": "2024-03-15T05:18:26.367142Z"
    },
    "papermill": {
     "duration": 0.041333,
     "end_time": "2024-03-15T05:18:26.370343",
     "exception": false,
     "start_time": "2024-03-15T05:18:26.329010",
     "status": "completed"
    },
    "tags": []
   },
   "outputs": [
    {
     "data": {
      "text/plain": [
       "array([ 8, 13, 18, 23])"
      ]
     },
     "execution_count": 32,
     "metadata": {},
     "output_type": "execute_result"
    }
   ],
   "source": [
    "a[1:5,2]"
   ]
  },
  {
   "cell_type": "code",
   "execution_count": 33,
   "id": "d547ed2e",
   "metadata": {
    "execution": {
     "iopub.execute_input": "2024-03-15T05:18:26.435131Z",
     "iopub.status.busy": "2024-03-15T05:18:26.434722Z",
     "iopub.status.idle": "2024-03-15T05:18:26.442362Z",
     "shell.execute_reply": "2024-03-15T05:18:26.441262Z"
    },
    "papermill": {
     "duration": 0.043615,
     "end_time": "2024-03-15T05:18:26.444741",
     "exception": false,
     "start_time": "2024-03-15T05:18:26.401126",
     "status": "completed"
    },
    "tags": []
   },
   "outputs": [
    {
     "data": {
      "text/plain": [
       "array([[ 1,  2,  3,  4,  5],\n",
       "       [ 6,  7,  8,  9, 10],\n",
       "       [11, 12, 13, 14, 15],\n",
       "       [16, 17, 18, 19, 20],\n",
       "       [21, 22, 23, 24, 25],\n",
       "       [26, 27, 28, 29, 30],\n",
       "       [31, 32, 33, 34, 35],\n",
       "       [36, 37, 38, 39, 40],\n",
       "       [41, 42, 43, 44, 45],\n",
       "       [46, 47, 48, 49, 50]])"
      ]
     },
     "execution_count": 33,
     "metadata": {},
     "output_type": "execute_result"
    }
   ],
   "source": [
    "a[:,:]"
   ]
  },
  {
   "cell_type": "code",
   "execution_count": 34,
   "id": "e593e39f",
   "metadata": {
    "execution": {
     "iopub.execute_input": "2024-03-15T05:18:26.508343Z",
     "iopub.status.busy": "2024-03-15T05:18:26.507899Z",
     "iopub.status.idle": "2024-03-15T05:18:26.515819Z",
     "shell.execute_reply": "2024-03-15T05:18:26.514625Z"
    },
    "papermill": {
     "duration": 0.042893,
     "end_time": "2024-03-15T05:18:26.518453",
     "exception": false,
     "start_time": "2024-03-15T05:18:26.475560",
     "status": "completed"
    },
    "tags": []
   },
   "outputs": [
    {
     "data": {
      "text/plain": [
       "array([[ 3,  4],\n",
       "       [ 8,  9],\n",
       "       [13, 14],\n",
       "       [18, 19],\n",
       "       [23, 24],\n",
       "       [28, 29],\n",
       "       [33, 34],\n",
       "       [38, 39],\n",
       "       [43, 44],\n",
       "       [48, 49]])"
      ]
     },
     "execution_count": 34,
     "metadata": {},
     "output_type": "execute_result"
    }
   ],
   "source": [
    "a[:,2:4]"
   ]
  },
  {
   "cell_type": "code",
   "execution_count": 35,
   "id": "3014cf16",
   "metadata": {
    "execution": {
     "iopub.execute_input": "2024-03-15T05:18:26.583107Z",
     "iopub.status.busy": "2024-03-15T05:18:26.582704Z",
     "iopub.status.idle": "2024-03-15T05:18:26.590181Z",
     "shell.execute_reply": "2024-03-15T05:18:26.589109Z"
    },
    "papermill": {
     "duration": 0.042875,
     "end_time": "2024-03-15T05:18:26.592632",
     "exception": false,
     "start_time": "2024-03-15T05:18:26.549757",
     "status": "completed"
    },
    "tags": []
   },
   "outputs": [
    {
     "data": {
      "text/plain": [
       "dtype('int64')"
      ]
     },
     "execution_count": 35,
     "metadata": {},
     "output_type": "execute_result"
    }
   ],
   "source": [
    "a[2,2].dtype"
   ]
  },
  {
   "cell_type": "markdown",
   "id": "f3543131",
   "metadata": {
    "papermill": {
     "duration": 0.030625,
     "end_time": "2024-03-15T05:18:26.655305",
     "exception": false,
     "start_time": "2024-03-15T05:18:26.624680",
     "status": "completed"
    },
    "tags": []
   },
   "source": [
    "**PART 5**\n"
   ]
  },
  {
   "cell_type": "code",
   "execution_count": 36,
   "id": "b51d1784",
   "metadata": {
    "execution": {
     "iopub.execute_input": "2024-03-15T05:18:26.719950Z",
     "iopub.status.busy": "2024-03-15T05:18:26.719548Z",
     "iopub.status.idle": "2024-03-15T05:18:26.726511Z",
     "shell.execute_reply": "2024-03-15T05:18:26.725311Z"
    },
    "papermill": {
     "duration": 0.042514,
     "end_time": "2024-03-15T05:18:26.729516",
     "exception": false,
     "start_time": "2024-03-15T05:18:26.687002",
     "status": "completed"
    },
    "tags": []
   },
   "outputs": [
    {
     "name": "stdout",
     "output_type": "stream",
     "text": [
      "[[ 0  1  2]\n",
      " [ 3  4  5]\n",
      " [ 6  7  8]\n",
      " [ 9 10 11]\n",
      " [12 13 14]\n",
      " [15 16 17]]\n",
      "[[20 21 22]\n",
      " [23 24 25]\n",
      " [26 27 28]\n",
      " [29 30 31]\n",
      " [32 33 34]\n",
      " [35 36 37]]\n"
     ]
    }
   ],
   "source": [
    "a=np.arange(0,18).reshape((6,3))\n",
    "b=np.arange(20,38).reshape((6,3))\n",
    "print(a)\n",
    "print(b)"
   ]
  },
  {
   "cell_type": "code",
   "execution_count": 37,
   "id": "1d6bc13e",
   "metadata": {
    "execution": {
     "iopub.execute_input": "2024-03-15T05:18:26.794065Z",
     "iopub.status.busy": "2024-03-15T05:18:26.793067Z",
     "iopub.status.idle": "2024-03-15T05:18:26.802159Z",
     "shell.execute_reply": "2024-03-15T05:18:26.800987Z"
    },
    "papermill": {
     "duration": 0.044423,
     "end_time": "2024-03-15T05:18:26.804959",
     "exception": false,
     "start_time": "2024-03-15T05:18:26.760536",
     "status": "completed"
    },
    "tags": []
   },
   "outputs": [
    {
     "data": {
      "text/plain": [
       "array([[20, 22, 24],\n",
       "       [26, 28, 30],\n",
       "       [32, 34, 36],\n",
       "       [38, 40, 42],\n",
       "       [44, 46, 48],\n",
       "       [50, 52, 54]])"
      ]
     },
     "execution_count": 37,
     "metadata": {},
     "output_type": "execute_result"
    }
   ],
   "source": [
    "a+b"
   ]
  },
  {
   "cell_type": "code",
   "execution_count": 38,
   "id": "108c7632",
   "metadata": {
    "execution": {
     "iopub.execute_input": "2024-03-15T05:18:26.869885Z",
     "iopub.status.busy": "2024-03-15T05:18:26.869487Z",
     "iopub.status.idle": "2024-03-15T05:18:26.876845Z",
     "shell.execute_reply": "2024-03-15T05:18:26.875590Z"
    },
    "papermill": {
     "duration": 0.042337,
     "end_time": "2024-03-15T05:18:26.879111",
     "exception": false,
     "start_time": "2024-03-15T05:18:26.836774",
     "status": "completed"
    },
    "tags": []
   },
   "outputs": [
    {
     "data": {
      "text/plain": [
       "array([[-20, -20, -20],\n",
       "       [-20, -20, -20],\n",
       "       [-20, -20, -20],\n",
       "       [-20, -20, -20],\n",
       "       [-20, -20, -20],\n",
       "       [-20, -20, -20]])"
      ]
     },
     "execution_count": 38,
     "metadata": {},
     "output_type": "execute_result"
    }
   ],
   "source": [
    "a-b"
   ]
  },
  {
   "cell_type": "code",
   "execution_count": 39,
   "id": "e35ab0e0",
   "metadata": {
    "execution": {
     "iopub.execute_input": "2024-03-15T05:18:26.944556Z",
     "iopub.status.busy": "2024-03-15T05:18:26.944156Z",
     "iopub.status.idle": "2024-03-15T05:18:26.951246Z",
     "shell.execute_reply": "2024-03-15T05:18:26.950107Z"
    },
    "papermill": {
     "duration": 0.042701,
     "end_time": "2024-03-15T05:18:26.953594",
     "exception": false,
     "start_time": "2024-03-15T05:18:26.910893",
     "status": "completed"
    },
    "tags": []
   },
   "outputs": [
    {
     "data": {
      "text/plain": [
       "array([[  0,  21,  44],\n",
       "       [ 69,  96, 125],\n",
       "       [156, 189, 224],\n",
       "       [261, 300, 341],\n",
       "       [384, 429, 476],\n",
       "       [525, 576, 629]])"
      ]
     },
     "execution_count": 39,
     "metadata": {},
     "output_type": "execute_result"
    }
   ],
   "source": [
    "a*b"
   ]
  },
  {
   "cell_type": "code",
   "execution_count": 40,
   "id": "aeaee91b",
   "metadata": {
    "execution": {
     "iopub.execute_input": "2024-03-15T05:18:27.019282Z",
     "iopub.status.busy": "2024-03-15T05:18:27.018842Z",
     "iopub.status.idle": "2024-03-15T05:18:27.028727Z",
     "shell.execute_reply": "2024-03-15T05:18:27.027491Z"
    },
    "papermill": {
     "duration": 0.046357,
     "end_time": "2024-03-15T05:18:27.031444",
     "exception": false,
     "start_time": "2024-03-15T05:18:26.985087",
     "status": "completed"
    },
    "tags": []
   },
   "outputs": [
    {
     "data": {
      "text/plain": [
       "array([[  0,  21,  44],\n",
       "       [ 69,  96, 125],\n",
       "       [156, 189, 224],\n",
       "       [261, 300, 341],\n",
       "       [384, 429, 476],\n",
       "       [525, 576, 629]])"
      ]
     },
     "execution_count": 40,
     "metadata": {},
     "output_type": "execute_result"
    }
   ],
   "source": [
    "np.multiply(a,b)"
   ]
  },
  {
   "cell_type": "code",
   "execution_count": 41,
   "id": "0f308b60",
   "metadata": {
    "execution": {
     "iopub.execute_input": "2024-03-15T05:18:27.098205Z",
     "iopub.status.busy": "2024-03-15T05:18:27.097826Z",
     "iopub.status.idle": "2024-03-15T05:18:27.105052Z",
     "shell.execute_reply": "2024-03-15T05:18:27.103783Z"
    },
    "papermill": {
     "duration": 0.044411,
     "end_time": "2024-03-15T05:18:27.107527",
     "exception": false,
     "start_time": "2024-03-15T05:18:27.063116",
     "status": "completed"
    },
    "tags": []
   },
   "outputs": [
    {
     "data": {
      "text/plain": [
       "array([[0.        , 0.04761905, 0.09090909],\n",
       "       [0.13043478, 0.16666667, 0.2       ],\n",
       "       [0.23076923, 0.25925926, 0.28571429],\n",
       "       [0.31034483, 0.33333333, 0.35483871],\n",
       "       [0.375     , 0.39393939, 0.41176471],\n",
       "       [0.42857143, 0.44444444, 0.45945946]])"
      ]
     },
     "execution_count": 41,
     "metadata": {},
     "output_type": "execute_result"
    }
   ],
   "source": [
    "a/b"
   ]
  },
  {
   "cell_type": "code",
   "execution_count": 42,
   "id": "38489774",
   "metadata": {
    "execution": {
     "iopub.execute_input": "2024-03-15T05:18:27.173079Z",
     "iopub.status.busy": "2024-03-15T05:18:27.172672Z",
     "iopub.status.idle": "2024-03-15T05:18:27.176938Z",
     "shell.execute_reply": "2024-03-15T05:18:27.176129Z"
    },
    "papermill": {
     "duration": 0.039991,
     "end_time": "2024-03-15T05:18:27.179289",
     "exception": false,
     "start_time": "2024-03-15T05:18:27.139298",
     "status": "completed"
    },
    "tags": []
   },
   "outputs": [],
   "source": [
    "b=b.reshape(3,6)"
   ]
  },
  {
   "cell_type": "code",
   "execution_count": 43,
   "id": "13132eab",
   "metadata": {
    "execution": {
     "iopub.execute_input": "2024-03-15T05:18:27.244865Z",
     "iopub.status.busy": "2024-03-15T05:18:27.244494Z",
     "iopub.status.idle": "2024-03-15T05:18:27.250871Z",
     "shell.execute_reply": "2024-03-15T05:18:27.249681Z"
    },
    "papermill": {
     "duration": 0.042449,
     "end_time": "2024-03-15T05:18:27.253519",
     "exception": false,
     "start_time": "2024-03-15T05:18:27.211070",
     "status": "completed"
    },
    "tags": []
   },
   "outputs": [
    {
     "name": "stdout",
     "output_type": "stream",
     "text": [
      "[[  90   93   96   99  102  105]\n",
      " [ 324  336  348  360  372  384]\n",
      " [ 558  579  600  621  642  663]\n",
      " [ 792  822  852  882  912  942]\n",
      " [1026 1065 1104 1143 1182 1221]\n",
      " [1260 1308 1356 1404 1452 1500]]\n"
     ]
    }
   ],
   "source": [
    "print(a@b)"
   ]
  },
  {
   "cell_type": "code",
   "execution_count": 44,
   "id": "5f93d26a",
   "metadata": {
    "execution": {
     "iopub.execute_input": "2024-03-15T05:18:27.320195Z",
     "iopub.status.busy": "2024-03-15T05:18:27.319802Z",
     "iopub.status.idle": "2024-03-15T05:18:27.326805Z",
     "shell.execute_reply": "2024-03-15T05:18:27.325726Z"
    },
    "papermill": {
     "duration": 0.042783,
     "end_time": "2024-03-15T05:18:27.329185",
     "exception": false,
     "start_time": "2024-03-15T05:18:27.286402",
     "status": "completed"
    },
    "tags": []
   },
   "outputs": [
    {
     "data": {
      "text/plain": [
       "array([[  90,   93,   96,   99,  102,  105],\n",
       "       [ 324,  336,  348,  360,  372,  384],\n",
       "       [ 558,  579,  600,  621,  642,  663],\n",
       "       [ 792,  822,  852,  882,  912,  942],\n",
       "       [1026, 1065, 1104, 1143, 1182, 1221],\n",
       "       [1260, 1308, 1356, 1404, 1452, 1500]])"
      ]
     },
     "execution_count": 44,
     "metadata": {},
     "output_type": "execute_result"
    }
   ],
   "source": [
    "a.dot(b)"
   ]
  },
  {
   "cell_type": "code",
   "execution_count": 45,
   "id": "c79a7e0b",
   "metadata": {
    "execution": {
     "iopub.execute_input": "2024-03-15T05:18:27.396716Z",
     "iopub.status.busy": "2024-03-15T05:18:27.396272Z",
     "iopub.status.idle": "2024-03-15T05:18:27.402799Z",
     "shell.execute_reply": "2024-03-15T05:18:27.401943Z"
    },
    "papermill": {
     "duration": 0.043273,
     "end_time": "2024-03-15T05:18:27.404822",
     "exception": false,
     "start_time": "2024-03-15T05:18:27.361549",
     "status": "completed"
    },
    "tags": []
   },
   "outputs": [
    {
     "data": {
      "text/plain": [
       "37"
      ]
     },
     "execution_count": 45,
     "metadata": {},
     "output_type": "execute_result"
    }
   ],
   "source": [
    "b.max()"
   ]
  },
  {
   "cell_type": "code",
   "execution_count": 46,
   "id": "8cfd051b",
   "metadata": {
    "execution": {
     "iopub.execute_input": "2024-03-15T05:18:27.472926Z",
     "iopub.status.busy": "2024-03-15T05:18:27.472504Z",
     "iopub.status.idle": "2024-03-15T05:18:27.479488Z",
     "shell.execute_reply": "2024-03-15T05:18:27.478379Z"
    },
    "papermill": {
     "duration": 0.043495,
     "end_time": "2024-03-15T05:18:27.481966",
     "exception": false,
     "start_time": "2024-03-15T05:18:27.438471",
     "status": "completed"
    },
    "tags": []
   },
   "outputs": [
    {
     "data": {
      "text/plain": [
       "20"
      ]
     },
     "execution_count": 46,
     "metadata": {},
     "output_type": "execute_result"
    }
   ],
   "source": [
    "b.min()"
   ]
  },
  {
   "cell_type": "code",
   "execution_count": 47,
   "id": "6a071df0",
   "metadata": {
    "execution": {
     "iopub.execute_input": "2024-03-15T05:18:27.548937Z",
     "iopub.status.busy": "2024-03-15T05:18:27.548476Z",
     "iopub.status.idle": "2024-03-15T05:18:27.555883Z",
     "shell.execute_reply": "2024-03-15T05:18:27.555006Z"
    },
    "papermill": {
     "duration": 0.043799,
     "end_time": "2024-03-15T05:18:27.558289",
     "exception": false,
     "start_time": "2024-03-15T05:18:27.514490",
     "status": "completed"
    },
    "tags": []
   },
   "outputs": [
    {
     "data": {
      "text/plain": [
       "17"
      ]
     },
     "execution_count": 47,
     "metadata": {},
     "output_type": "execute_result"
    }
   ],
   "source": [
    "b.argmax()"
   ]
  },
  {
   "cell_type": "code",
   "execution_count": 48,
   "id": "fa43c074",
   "metadata": {
    "execution": {
     "iopub.execute_input": "2024-03-15T05:18:27.626084Z",
     "iopub.status.busy": "2024-03-15T05:18:27.625656Z",
     "iopub.status.idle": "2024-03-15T05:18:27.632806Z",
     "shell.execute_reply": "2024-03-15T05:18:27.631815Z"
    },
    "papermill": {
     "duration": 0.043324,
     "end_time": "2024-03-15T05:18:27.635003",
     "exception": false,
     "start_time": "2024-03-15T05:18:27.591679",
     "status": "completed"
    },
    "tags": []
   },
   "outputs": [
    {
     "data": {
      "text/plain": [
       "513"
      ]
     },
     "execution_count": 48,
     "metadata": {},
     "output_type": "execute_result"
    }
   ],
   "source": [
    "np.sum(b)"
   ]
  },
  {
   "cell_type": "code",
   "execution_count": 49,
   "id": "9df55f85",
   "metadata": {
    "execution": {
     "iopub.execute_input": "2024-03-15T05:18:27.704080Z",
     "iopub.status.busy": "2024-03-15T05:18:27.703645Z",
     "iopub.status.idle": "2024-03-15T05:18:27.710973Z",
     "shell.execute_reply": "2024-03-15T05:18:27.709784Z"
    },
    "papermill": {
     "duration": 0.046036,
     "end_time": "2024-03-15T05:18:27.713557",
     "exception": false,
     "start_time": "2024-03-15T05:18:27.667521",
     "status": "completed"
    },
    "tags": []
   },
   "outputs": [
    {
     "data": {
      "text/plain": [
       "28.5"
      ]
     },
     "execution_count": 49,
     "metadata": {},
     "output_type": "execute_result"
    }
   ],
   "source": [
    "np.mean(b)"
   ]
  },
  {
   "cell_type": "code",
   "execution_count": 50,
   "id": "0a2ba1c6",
   "metadata": {
    "execution": {
     "iopub.execute_input": "2024-03-15T05:18:27.782702Z",
     "iopub.status.busy": "2024-03-15T05:18:27.782331Z",
     "iopub.status.idle": "2024-03-15T05:18:27.791450Z",
     "shell.execute_reply": "2024-03-15T05:18:27.790300Z"
    },
    "papermill": {
     "duration": 0.045947,
     "end_time": "2024-03-15T05:18:27.793862",
     "exception": false,
     "start_time": "2024-03-15T05:18:27.747915",
     "status": "completed"
    },
    "tags": []
   },
   "outputs": [
    {
     "data": {
      "text/plain": [
       "28.5"
      ]
     },
     "execution_count": 50,
     "metadata": {},
     "output_type": "execute_result"
    }
   ],
   "source": [
    "np.median(b)"
   ]
  },
  {
   "cell_type": "code",
   "execution_count": 51,
   "id": "fcffdd85",
   "metadata": {
    "execution": {
     "iopub.execute_input": "2024-03-15T05:18:27.861866Z",
     "iopub.status.busy": "2024-03-15T05:18:27.861451Z",
     "iopub.status.idle": "2024-03-15T05:18:27.869272Z",
     "shell.execute_reply": "2024-03-15T05:18:27.868091Z"
    },
    "papermill": {
     "duration": 0.044561,
     "end_time": "2024-03-15T05:18:27.871532",
     "exception": false,
     "start_time": "2024-03-15T05:18:27.826971",
     "status": "completed"
    },
    "tags": []
   },
   "outputs": [
    {
     "data": {
      "text/plain": [
       "array([[4.47213595, 4.58257569, 4.69041576, 4.79583152, 4.89897949,\n",
       "        5.        ],\n",
       "       [5.09901951, 5.19615242, 5.29150262, 5.38516481, 5.47722558,\n",
       "        5.56776436],\n",
       "       [5.65685425, 5.74456265, 5.83095189, 5.91607978, 6.        ,\n",
       "        6.08276253]])"
      ]
     },
     "execution_count": 51,
     "metadata": {},
     "output_type": "execute_result"
    }
   ],
   "source": [
    "np.sqrt(b)"
   ]
  },
  {
   "cell_type": "code",
   "execution_count": 52,
   "id": "ab70207d",
   "metadata": {
    "execution": {
     "iopub.execute_input": "2024-03-15T05:18:27.940754Z",
     "iopub.status.busy": "2024-03-15T05:18:27.940330Z",
     "iopub.status.idle": "2024-03-15T05:18:27.948036Z",
     "shell.execute_reply": "2024-03-15T05:18:27.946776Z"
    },
    "papermill": {
     "duration": 0.045562,
     "end_time": "2024-03-15T05:18:27.950687",
     "exception": false,
     "start_time": "2024-03-15T05:18:27.905125",
     "status": "completed"
    },
    "tags": []
   },
   "outputs": [
    {
     "data": {
      "text/plain": [
       "5.188127472091127"
      ]
     },
     "execution_count": 52,
     "metadata": {},
     "output_type": "execute_result"
    }
   ],
   "source": [
    "np.std(b)"
   ]
  },
  {
   "cell_type": "code",
   "execution_count": 53,
   "id": "ce08a8a2",
   "metadata": {
    "execution": {
     "iopub.execute_input": "2024-03-15T05:18:28.043043Z",
     "iopub.status.busy": "2024-03-15T05:18:28.042613Z",
     "iopub.status.idle": "2024-03-15T05:18:28.050403Z",
     "shell.execute_reply": "2024-03-15T05:18:28.049291Z"
    },
    "papermill": {
     "duration": 0.060766,
     "end_time": "2024-03-15T05:18:28.053164",
     "exception": false,
     "start_time": "2024-03-15T05:18:27.992398",
     "status": "completed"
    },
    "tags": []
   },
   "outputs": [
    {
     "data": {
      "text/plain": [
       "array([[2.99573227, 3.04452244, 3.09104245, 3.13549422, 3.17805383,\n",
       "        3.21887582],\n",
       "       [3.25809654, 3.29583687, 3.33220451, 3.36729583, 3.40119738,\n",
       "        3.4339872 ],\n",
       "       [3.4657359 , 3.49650756, 3.52636052, 3.55534806, 3.58351894,\n",
       "        3.61091791]])"
      ]
     },
     "execution_count": 53,
     "metadata": {},
     "output_type": "execute_result"
    }
   ],
   "source": [
    "np.log(b)"
   ]
  },
  {
   "cell_type": "markdown",
   "id": "a58d7c33",
   "metadata": {
    "papermill": {
     "duration": 0.036968,
     "end_time": "2024-03-15T05:18:28.138544",
     "exception": false,
     "start_time": "2024-03-15T05:18:28.101576",
     "status": "completed"
    },
    "tags": []
   },
   "source": [
    "**PART 6**"
   ]
  },
  {
   "cell_type": "code",
   "execution_count": 54,
   "id": "de0f3042",
   "metadata": {
    "execution": {
     "iopub.execute_input": "2024-03-15T05:18:28.216439Z",
     "iopub.status.busy": "2024-03-15T05:18:28.214555Z",
     "iopub.status.idle": "2024-03-15T05:18:28.222862Z",
     "shell.execute_reply": "2024-03-15T05:18:28.221683Z"
    },
    "papermill": {
     "duration": 0.052998,
     "end_time": "2024-03-15T05:18:28.226002",
     "exception": false,
     "start_time": "2024-03-15T05:18:28.173004",
     "status": "completed"
    },
    "tags": []
   },
   "outputs": [],
   "source": [
    "import matplotlib.pyplot as plt\n",
    "plt.style.use('dark_background')"
   ]
  },
  {
   "cell_type": "code",
   "execution_count": 55,
   "id": "610d1cd0",
   "metadata": {
    "execution": {
     "iopub.execute_input": "2024-03-15T05:18:28.298843Z",
     "iopub.status.busy": "2024-03-15T05:18:28.297659Z",
     "iopub.status.idle": "2024-03-15T05:18:28.304892Z",
     "shell.execute_reply": "2024-03-15T05:18:28.303848Z"
    },
    "papermill": {
     "duration": 0.046333,
     "end_time": "2024-03-15T05:18:28.307337",
     "exception": false,
     "start_time": "2024-03-15T05:18:28.261004",
     "status": "completed"
    },
    "tags": []
   },
   "outputs": [
    {
     "data": {
      "text/plain": [
       "3.141592653589793"
      ]
     },
     "execution_count": 55,
     "metadata": {},
     "output_type": "execute_result"
    }
   ],
   "source": [
    "np.pi"
   ]
  },
  {
   "cell_type": "code",
   "execution_count": 56,
   "id": "ce658777",
   "metadata": {
    "execution": {
     "iopub.execute_input": "2024-03-15T05:18:28.387124Z",
     "iopub.status.busy": "2024-03-15T05:18:28.386139Z",
     "iopub.status.idle": "2024-03-15T05:18:28.395889Z",
     "shell.execute_reply": "2024-03-15T05:18:28.394840Z"
    },
    "papermill": {
     "duration": 0.05397,
     "end_time": "2024-03-15T05:18:28.398361",
     "exception": false,
     "start_time": "2024-03-15T05:18:28.344391",
     "status": "completed"
    },
    "tags": []
   },
   "outputs": [
    {
     "data": {
      "text/plain": [
       "1.0"
      ]
     },
     "execution_count": 56,
     "metadata": {},
     "output_type": "execute_result"
    }
   ],
   "source": [
    "np.sin(np.pi/2)"
   ]
  },
  {
   "cell_type": "code",
   "execution_count": 57,
   "id": "eaf97ec8",
   "metadata": {
    "execution": {
     "iopub.execute_input": "2024-03-15T05:18:28.476600Z",
     "iopub.status.busy": "2024-03-15T05:18:28.475722Z",
     "iopub.status.idle": "2024-03-15T05:18:28.484215Z",
     "shell.execute_reply": "2024-03-15T05:18:28.482807Z"
    },
    "papermill": {
     "duration": 0.051949,
     "end_time": "2024-03-15T05:18:28.486831",
     "exception": false,
     "start_time": "2024-03-15T05:18:28.434882",
     "status": "completed"
    },
    "tags": []
   },
   "outputs": [
    {
     "data": {
      "text/plain": [
       "0.49999999999999994"
      ]
     },
     "execution_count": 57,
     "metadata": {},
     "output_type": "execute_result"
    }
   ],
   "source": [
    "np.sin(np.pi/6)"
   ]
  },
  {
   "cell_type": "code",
   "execution_count": 58,
   "id": "9e9c2096",
   "metadata": {
    "execution": {
     "iopub.execute_input": "2024-03-15T05:18:28.560134Z",
     "iopub.status.busy": "2024-03-15T05:18:28.559462Z",
     "iopub.status.idle": "2024-03-15T05:18:28.567427Z",
     "shell.execute_reply": "2024-03-15T05:18:28.566295Z"
    },
    "papermill": {
     "duration": 0.047753,
     "end_time": "2024-03-15T05:18:28.569922",
     "exception": false,
     "start_time": "2024-03-15T05:18:28.522169",
     "status": "completed"
    },
    "tags": []
   },
   "outputs": [
    {
     "data": {
      "text/plain": [
       "0.5000000000000001"
      ]
     },
     "execution_count": 58,
     "metadata": {},
     "output_type": "execute_result"
    }
   ],
   "source": [
    "np.cos(np.pi/3)"
   ]
  },
  {
   "cell_type": "code",
   "execution_count": 59,
   "id": "7402314f",
   "metadata": {
    "execution": {
     "iopub.execute_input": "2024-03-15T05:18:28.643046Z",
     "iopub.status.busy": "2024-03-15T05:18:28.641834Z",
     "iopub.status.idle": "2024-03-15T05:18:28.649840Z",
     "shell.execute_reply": "2024-03-15T05:18:28.648767Z"
    },
    "papermill": {
     "duration": 0.046287,
     "end_time": "2024-03-15T05:18:28.652343",
     "exception": false,
     "start_time": "2024-03-15T05:18:28.606056",
     "status": "completed"
    },
    "tags": []
   },
   "outputs": [
    {
     "data": {
      "text/plain": [
       "0.0"
      ]
     },
     "execution_count": 59,
     "metadata": {},
     "output_type": "execute_result"
    }
   ],
   "source": [
    "np.tan(0)"
   ]
  },
  {
   "cell_type": "markdown",
   "id": "b2080fc6",
   "metadata": {
    "papermill": {
     "duration": 0.036593,
     "end_time": "2024-03-15T05:18:28.725301",
     "exception": false,
     "start_time": "2024-03-15T05:18:28.688708",
     "status": "completed"
    },
    "tags": []
   },
   "source": [
    "**MATPLOTLIB WITH NUMPY**"
   ]
  },
  {
   "cell_type": "code",
   "execution_count": 60,
   "id": "5ca7176c",
   "metadata": {
    "execution": {
     "iopub.execute_input": "2024-03-15T05:18:28.798554Z",
     "iopub.status.busy": "2024-03-15T05:18:28.797845Z",
     "iopub.status.idle": "2024-03-15T05:18:29.079031Z",
     "shell.execute_reply": "2024-03-15T05:18:29.076192Z"
    },
    "papermill": {
     "duration": 0.320984,
     "end_time": "2024-03-15T05:18:29.082054",
     "exception": false,
     "start_time": "2024-03-15T05:18:28.761070",
     "status": "completed"
    },
    "tags": []
   },
   "outputs": [
    {
     "data": {
      "image/png": "[encoded data removed]",
      "text/plain": [
       "<Figure size 600x600 with 1 Axes>"
      ]
     },
     "metadata": {},
     "output_type": "display_data"
    }
   ],
   "source": [
    "x=np.arange(0,11)\n",
    "y=np.arange(10,111,10)\n",
    "plt.figure(figsize=(6,6))\n",
    "plt.plot(x,y,'c-.')\n",
    "plt.show()"
   ]
  },
  {
   "cell_type": "code",
   "execution_count": 61,
   "id": "13cdcf8d",
   "metadata": {
    "execution": {
     "iopub.execute_input": "2024-03-15T05:18:29.159533Z",
     "iopub.status.busy": "2024-03-15T05:18:29.158206Z",
     "iopub.status.idle": "2024-03-15T05:18:29.168997Z",
     "shell.execute_reply": "2024-03-15T05:18:29.167933Z"
    },
    "papermill": {
     "duration": 0.049204,
     "end_time": "2024-03-15T05:18:29.171366",
     "exception": false,
     "start_time": "2024-03-15T05:18:29.122162",
     "status": "completed"
    },
    "tags": []
   },
   "outputs": [
    {
     "data": {
      "text/plain": [
       "array([ 0.        ,  0.09983342,  0.19866933,  0.29552021,  0.38941834,\n",
       "        0.47942554,  0.56464247,  0.64421769,  0.71735609,  0.78332691,\n",
       "        0.84147098,  0.89120736,  0.93203909,  0.96355819,  0.98544973,\n",
       "        0.99749499,  0.9995736 ,  0.99166481,  0.97384763,  0.94630009,\n",
       "        0.90929743,  0.86320937,  0.8084964 ,  0.74570521,  0.67546318,\n",
       "        0.59847214,  0.51550137,  0.42737988,  0.33498815,  0.23924933,\n",
       "        0.14112001,  0.04158066, -0.05837414, -0.15774569, -0.2555411 ,\n",
       "       -0.35078323, -0.44252044, -0.52983614, -0.61185789, -0.68776616,\n",
       "       -0.7568025 , -0.81827711, -0.87157577, -0.91616594, -0.95160207,\n",
       "       -0.97753012, -0.993691  , -0.99992326, -0.99616461, -0.98245261,\n",
       "       -0.95892427, -0.92581468, -0.88345466, -0.83226744, -0.77276449,\n",
       "       -0.70554033, -0.63126664, -0.55068554, -0.46460218, -0.37387666,\n",
       "       -0.2794155 , -0.1821625 , -0.0830894 ])"
      ]
     },
     "execution_count": 61,
     "metadata": {},
     "output_type": "execute_result"
    }
   ],
   "source": [
    "x_sin=np.arange(0,2*np.pi,0.1)\n",
    "y_sin=np.sin(x_sin)\n",
    "y_sin"
   ]
  },
  {
   "cell_type": "code",
   "execution_count": 62,
   "id": "e44ab744",
   "metadata": {
    "execution": {
     "iopub.execute_input": "2024-03-15T05:18:29.246470Z",
     "iopub.status.busy": "2024-03-15T05:18:29.245720Z",
     "iopub.status.idle": "2024-03-15T05:18:29.608323Z",
     "shell.execute_reply": "2024-03-15T05:18:29.607192Z"
    },
    "papermill": {
     "duration": 0.404675,
     "end_time": "2024-03-15T05:18:29.611038",
     "exception": false,
     "start_time": "2024-03-15T05:18:29.206363",
     "status": "completed"
    },
    "tags": []
   },
   "outputs": [
    {
     "data": {
      "text/plain": [
       "[<matplotlib.lines.Line2D at 0x7e24d94d1990>]"
      ]
     },
     "execution_count": 62,
     "metadata": {},
     "output_type": "execute_result"
    },
    {
     "data": {
      "image/png": "[encoded data removed]",
      "text/plain": [
       "<Figure size 600x600 with 1 Axes>"
      ]
     },
     "metadata": {},
     "output_type": "display_data"
    }
   ],
   "source": [
    "plt.figure(figsize=(6,6))\n",
    "plt.plot(y_sin,'w:')"
   ]
  },
  {
   "cell_type": "markdown",
   "id": "b0ed1c02",
   "metadata": {
    "papermill": {
     "duration": 0.035227,
     "end_time": "2024-03-15T05:18:29.682115",
     "exception": false,
     "start_time": "2024-03-15T05:18:29.646888",
     "status": "completed"
    },
    "tags": []
   },
   "source": [
    "**PART 7**"
   ]
  },
  {
   "cell_type": "code",
   "execution_count": 63,
   "id": "14655ee9",
   "metadata": {
    "execution": {
     "iopub.execute_input": "2024-03-15T05:18:29.756206Z",
     "iopub.status.busy": "2024-03-15T05:18:29.755829Z",
     "iopub.status.idle": "2024-03-15T05:18:29.763279Z",
     "shell.execute_reply": "2024-03-15T05:18:29.762206Z"
    },
    "papermill": {
     "duration": 0.047881,
     "end_time": "2024-03-15T05:18:29.766862",
     "exception": false,
     "start_time": "2024-03-15T05:18:29.718981",
     "status": "completed"
    },
    "tags": []
   },
   "outputs": [
    {
     "data": {
      "text/plain": [
       "array([0.87236281])"
      ]
     },
     "execution_count": 63,
     "metadata": {},
     "output_type": "execute_result"
    }
   ],
   "source": [
    "np.random.random(1)"
   ]
  },
  {
   "cell_type": "code",
   "execution_count": 64,
   "id": "40e501bf",
   "metadata": {
    "execution": {
     "iopub.execute_input": "2024-03-15T05:18:29.863353Z",
     "iopub.status.busy": "2024-03-15T05:18:29.862879Z",
     "iopub.status.idle": "2024-03-15T05:18:29.869504Z",
     "shell.execute_reply": "2024-03-15T05:18:29.868697Z"
    },
    "papermill": {
     "duration": 0.057536,
     "end_time": "2024-03-15T05:18:29.872462",
     "exception": false,
     "start_time": "2024-03-15T05:18:29.814926",
     "status": "completed"
    },
    "tags": []
   },
   "outputs": [
    {
     "data": {
      "text/plain": [
       "array([0.62217732, 0.10790779])"
      ]
     },
     "execution_count": 64,
     "metadata": {},
     "output_type": "execute_result"
    }
   ],
   "source": [
    "np.random.random(2)"
   ]
  },
  {
   "cell_type": "code",
   "execution_count": 65,
   "id": "c362cb5e",
   "metadata": {
    "execution": {
     "iopub.execute_input": "2024-03-15T05:18:29.947739Z",
     "iopub.status.busy": "2024-03-15T05:18:29.947306Z",
     "iopub.status.idle": "2024-03-15T05:18:29.953911Z",
     "shell.execute_reply": "2024-03-15T05:18:29.952754Z"
    },
    "papermill": {
     "duration": 0.046057,
     "end_time": "2024-03-15T05:18:29.956174",
     "exception": false,
     "start_time": "2024-03-15T05:18:29.910117",
     "status": "completed"
    },
    "tags": []
   },
   "outputs": [
    {
     "name": "stdout",
     "output_type": "stream",
     "text": [
      "[[0.23874236 0.94532153]\n",
      " [0.99950881 0.68937743]]\n"
     ]
    }
   ],
   "source": [
    "print(np.random.random((2,2)))"
   ]
  },
  {
   "cell_type": "code",
   "execution_count": 66,
   "id": "9ff5a581",
   "metadata": {
    "execution": {
     "iopub.execute_input": "2024-03-15T05:18:30.031052Z",
     "iopub.status.busy": "2024-03-15T05:18:30.030052Z",
     "iopub.status.idle": "2024-03-15T05:18:30.037477Z",
     "shell.execute_reply": "2024-03-15T05:18:30.036296Z"
    },
    "papermill": {
     "duration": 0.047327,
     "end_time": "2024-03-15T05:18:30.039953",
     "exception": false,
     "start_time": "2024-03-15T05:18:29.992626",
     "status": "completed"
    },
    "tags": []
   },
   "outputs": [
    {
     "data": {
      "text/plain": [
       "3"
      ]
     },
     "execution_count": 66,
     "metadata": {},
     "output_type": "execute_result"
    }
   ],
   "source": [
    "np.random.randint(1,10)"
   ]
  },
  {
   "cell_type": "code",
   "execution_count": 67,
   "id": "e78c35e0",
   "metadata": {
    "execution": {
     "iopub.execute_input": "2024-03-15T05:18:30.115898Z",
     "iopub.status.busy": "2024-03-15T05:18:30.115256Z",
     "iopub.status.idle": "2024-03-15T05:18:30.121532Z",
     "shell.execute_reply": "2024-03-15T05:18:30.120511Z"
    },
    "papermill": {
     "duration": 0.046766,
     "end_time": "2024-03-15T05:18:30.123734",
     "exception": false,
     "start_time": "2024-03-15T05:18:30.076968",
     "status": "completed"
    },
    "tags": []
   },
   "outputs": [
    {
     "data": {
      "text/plain": [
       "array([[6, 7],\n",
       "       [8, 6]])"
      ]
     },
     "execution_count": 67,
     "metadata": {},
     "output_type": "execute_result"
    }
   ],
   "source": [
    "np.random.randint(1,10,(2,2))"
   ]
  },
  {
   "cell_type": "code",
   "execution_count": 68,
   "id": "e23f5c34",
   "metadata": {
    "execution": {
     "iopub.execute_input": "2024-03-15T05:18:30.205603Z",
     "iopub.status.busy": "2024-03-15T05:18:30.204769Z",
     "iopub.status.idle": "2024-03-15T05:18:30.213655Z",
     "shell.execute_reply": "2024-03-15T05:18:30.212495Z"
    },
    "papermill": {
     "duration": 0.056087,
     "end_time": "2024-03-15T05:18:30.216095",
     "exception": false,
     "start_time": "2024-03-15T05:18:30.160008",
     "status": "completed"
    },
    "tags": []
   },
   "outputs": [
    {
     "data": {
      "text/plain": [
       "array([[[6, 6, 5, 2, 9],\n",
       "        [4, 6, 3, 2, 7],\n",
       "        [9, 9, 8, 7, 4],\n",
       "        [9, 7, 9, 9, 3]],\n",
       "\n",
       "       [[9, 3, 9, 5, 2],\n",
       "        [4, 2, 6, 2, 7],\n",
       "        [9, 9, 7, 6, 1],\n",
       "        [1, 9, 2, 5, 9]],\n",
       "\n",
       "       [[8, 5, 5, 6, 7],\n",
       "        [3, 8, 3, 5, 3],\n",
       "        [5, 4, 6, 9, 6],\n",
       "        [9, 5, 7, 2, 5]]])"
      ]
     },
     "execution_count": 68,
     "metadata": {},
     "output_type": "execute_result"
    }
   ],
   "source": [
    "np.random.randint(1,10,(3,4,5))"
   ]
  },
  {
   "cell_type": "code",
   "execution_count": 69,
   "id": "1e74a59a",
   "metadata": {
    "execution": {
     "iopub.execute_input": "2024-03-15T05:18:30.296183Z",
     "iopub.status.busy": "2024-03-15T05:18:30.295562Z",
     "iopub.status.idle": "2024-03-15T05:18:30.302743Z",
     "shell.execute_reply": "2024-03-15T05:18:30.301539Z"
    },
    "papermill": {
     "duration": 0.047854,
     "end_time": "2024-03-15T05:18:30.304983",
     "exception": false,
     "start_time": "2024-03-15T05:18:30.257129",
     "status": "completed"
    },
    "tags": []
   },
   "outputs": [
    {
     "data": {
      "text/plain": [
       "array([[0.66497187, 0.74419301],\n",
       "       [0.83847435, 0.34825703]])"
      ]
     },
     "execution_count": 69,
     "metadata": {},
     "output_type": "execute_result"
    }
   ],
   "source": [
    "np.random.rand(2,2)"
   ]
  },
  {
   "cell_type": "code",
   "execution_count": 70,
   "id": "2abd8d2f",
   "metadata": {
    "execution": {
     "iopub.execute_input": "2024-03-15T05:18:30.380009Z",
     "iopub.status.busy": "2024-03-15T05:18:30.379374Z",
     "iopub.status.idle": "2024-03-15T05:18:30.386456Z",
     "shell.execute_reply": "2024-03-15T05:18:30.385312Z"
    },
    "papermill": {
     "duration": 0.047193,
     "end_time": "2024-03-15T05:18:30.388631",
     "exception": false,
     "start_time": "2024-03-15T05:18:30.341438",
     "status": "completed"
    },
    "tags": []
   },
   "outputs": [
    {
     "data": {
      "text/plain": [
       "array([0.91986974])"
      ]
     },
     "execution_count": 70,
     "metadata": {},
     "output_type": "execute_result"
    }
   ],
   "source": [
    "np.random.randn(1)"
   ]
  },
  {
   "cell_type": "code",
   "execution_count": 71,
   "id": "45970b1b",
   "metadata": {
    "execution": {
     "iopub.execute_input": "2024-03-15T05:18:30.466183Z",
     "iopub.status.busy": "2024-03-15T05:18:30.465548Z",
     "iopub.status.idle": "2024-03-15T05:18:30.474321Z",
     "shell.execute_reply": "2024-03-15T05:18:30.473163Z"
    },
    "papermill": {
     "duration": 0.050578,
     "end_time": "2024-03-15T05:18:30.476710",
     "exception": false,
     "start_time": "2024-03-15T05:18:30.426132",
     "status": "completed"
    },
    "tags": []
   },
   "outputs": [
    {
     "data": {
      "text/plain": [
       "2"
      ]
     },
     "execution_count": 71,
     "metadata": {},
     "output_type": "execute_result"
    }
   ],
   "source": [
    "a=np.arange(1,10)\n",
    "np.random.choice(a)"
   ]
  },
  {
   "cell_type": "markdown",
   "id": "ae670f3b",
   "metadata": {
    "papermill": {
     "duration": 0.036534,
     "end_time": "2024-03-15T05:18:30.550270",
     "exception": false,
     "start_time": "2024-03-15T05:18:30.513736",
     "status": "completed"
    },
    "tags": []
   },
   "source": [
    "**PART 8**"
   ]
  },
  {
   "cell_type": "code",
   "execution_count": 72,
   "id": "8de03527",
   "metadata": {
    "execution": {
     "iopub.execute_input": "2024-03-15T05:18:30.625768Z",
     "iopub.status.busy": "2024-03-15T05:18:30.625382Z",
     "iopub.status.idle": "2024-03-15T05:18:30.630313Z",
     "shell.execute_reply": "2024-03-15T05:18:30.629167Z"
    },
    "papermill": {
     "duration": 0.045905,
     "end_time": "2024-03-15T05:18:30.632899",
     "exception": false,
     "start_time": "2024-03-15T05:18:30.586994",
     "status": "completed"
    },
    "tags": []
   },
   "outputs": [],
   "source": [
    "s1=\"Niruba is my name\"\n",
    "s2=\"I am an Indian\""
   ]
  },
  {
   "cell_type": "code",
   "execution_count": 73,
   "id": "e3cbec13",
   "metadata": {
    "execution": {
     "iopub.execute_input": "2024-03-15T05:18:30.710614Z",
     "iopub.status.busy": "2024-03-15T05:18:30.710120Z",
     "iopub.status.idle": "2024-03-15T05:18:30.717191Z",
     "shell.execute_reply": "2024-03-15T05:18:30.716318Z"
    },
    "papermill": {
     "duration": 0.048418,
     "end_time": "2024-03-15T05:18:30.719291",
     "exception": false,
     "start_time": "2024-03-15T05:18:30.670873",
     "status": "completed"
    },
    "tags": []
   },
   "outputs": [
    {
     "data": {
      "text/plain": [
       "array('Niruba is my nameI am an Indian', dtype='<U31')"
      ]
     },
     "execution_count": 73,
     "metadata": {},
     "output_type": "execute_result"
    }
   ],
   "source": [
    "np.char.add(s1,s2)"
   ]
  },
  {
   "cell_type": "code",
   "execution_count": 74,
   "id": "22f8055e",
   "metadata": {
    "execution": {
     "iopub.execute_input": "2024-03-15T05:18:30.800497Z",
     "iopub.status.busy": "2024-03-15T05:18:30.799775Z",
     "iopub.status.idle": "2024-03-15T05:18:30.806639Z",
     "shell.execute_reply": "2024-03-15T05:18:30.805400Z"
    },
    "papermill": {
     "duration": 0.052038,
     "end_time": "2024-03-15T05:18:30.809340",
     "exception": false,
     "start_time": "2024-03-15T05:18:30.757302",
     "status": "completed"
    },
    "tags": []
   },
   "outputs": [
    {
     "data": {
      "text/plain": [
       "array('NIRUBA IS MY NAME', dtype='<U17')"
      ]
     },
     "execution_count": 74,
     "metadata": {},
     "output_type": "execute_result"
    }
   ],
   "source": [
    "np.char.upper(s1)"
   ]
  },
  {
   "cell_type": "code",
   "execution_count": 75,
   "id": "b7416736",
   "metadata": {
    "execution": {
     "iopub.execute_input": "2024-03-15T05:18:30.886313Z",
     "iopub.status.busy": "2024-03-15T05:18:30.885866Z",
     "iopub.status.idle": "2024-03-15T05:18:30.893319Z",
     "shell.execute_reply": "2024-03-15T05:18:30.892303Z"
    },
    "papermill": {
     "duration": 0.048942,
     "end_time": "2024-03-15T05:18:30.895735",
     "exception": false,
     "start_time": "2024-03-15T05:18:30.846793",
     "status": "completed"
    },
    "tags": []
   },
   "outputs": [
    {
     "data": {
      "text/plain": [
       "array('niruba is my name', dtype='<U17')"
      ]
     },
     "execution_count": 75,
     "metadata": {},
     "output_type": "execute_result"
    }
   ],
   "source": [
    "np.char.lower(s1)"
   ]
  },
  {
   "cell_type": "code",
   "execution_count": 76,
   "id": "557baa21",
   "metadata": {
    "execution": {
     "iopub.execute_input": "2024-03-15T05:18:30.972937Z",
     "iopub.status.busy": "2024-03-15T05:18:30.972050Z",
     "iopub.status.idle": "2024-03-15T05:18:30.980033Z",
     "shell.execute_reply": "2024-03-15T05:18:30.978801Z"
    },
    "papermill": {
     "duration": 0.049054,
     "end_time": "2024-03-15T05:18:30.982386",
     "exception": false,
     "start_time": "2024-03-15T05:18:30.933332",
     "status": "completed"
    },
    "tags": []
   },
   "outputs": [
    {
     "data": {
      "text/plain": [
       "array(list(['Niruba', 'is', 'my', 'name']), dtype=object)"
      ]
     },
     "execution_count": 76,
     "metadata": {},
     "output_type": "execute_result"
    }
   ],
   "source": [
    "np.char.split(s1)"
   ]
  },
  {
   "cell_type": "code",
   "execution_count": 77,
   "id": "ef958832",
   "metadata": {
    "execution": {
     "iopub.execute_input": "2024-03-15T05:18:31.059544Z",
     "iopub.status.busy": "2024-03-15T05:18:31.058744Z",
     "iopub.status.idle": "2024-03-15T05:18:31.066419Z",
     "shell.execute_reply": "2024-03-15T05:18:31.065114Z"
    },
    "papermill": {
     "duration": 0.049042,
     "end_time": "2024-03-15T05:18:31.069032",
     "exception": false,
     "start_time": "2024-03-15T05:18:31.019990",
     "status": "completed"
    },
    "tags": []
   },
   "outputs": [
    {
     "data": {
      "text/plain": [
       "array(list(['hi', ' im good']), dtype=object)"
      ]
     },
     "execution_count": 77,
     "metadata": {},
     "output_type": "execute_result"
    }
   ],
   "source": [
    "s3=\"hi\\n im good\"\n",
    "np.char.splitlines(s3)"
   ]
  },
  {
   "cell_type": "code",
   "execution_count": 78,
   "id": "e40d4d9c",
   "metadata": {
    "execution": {
     "iopub.execute_input": "2024-03-15T05:18:31.147510Z",
     "iopub.status.busy": "2024-03-15T05:18:31.146606Z",
     "iopub.status.idle": "2024-03-15T05:18:31.154115Z",
     "shell.execute_reply": "2024-03-15T05:18:31.153164Z"
    },
    "papermill": {
     "duration": 0.049052,
     "end_time": "2024-03-15T05:18:31.156443",
     "exception": false,
     "start_time": "2024-03-15T05:18:31.107391",
     "status": "completed"
    },
    "tags": []
   },
   "outputs": [
    {
     "data": {
      "text/plain": [
       "array('Niruba is my NAME', dtype='<U17')"
      ]
     },
     "execution_count": 78,
     "metadata": {},
     "output_type": "execute_result"
    }
   ],
   "source": [
    "np.char.replace(s1,'name','NAME')"
   ]
  },
  {
   "cell_type": "code",
   "execution_count": 79,
   "id": "56bfe5ce",
   "metadata": {
    "execution": {
     "iopub.execute_input": "2024-03-15T05:18:31.235457Z",
     "iopub.status.busy": "2024-03-15T05:18:31.235028Z",
     "iopub.status.idle": "2024-03-15T05:18:31.240456Z",
     "shell.execute_reply": "2024-03-15T05:18:31.239313Z"
    },
    "papermill": {
     "duration": 0.048111,
     "end_time": "2024-03-15T05:18:31.243153",
     "exception": false,
     "start_time": "2024-03-15T05:18:31.195042",
     "status": "completed"
    },
    "tags": []
   },
   "outputs": [
    {
     "name": "stdout",
     "output_type": "stream",
     "text": [
      "****************good bye**************\n"
     ]
    }
   ],
   "source": [
    "print('****************good bye**************')"
   ]
  },
  {
   "cell_type": "code",
   "execution_count": 80,
   "id": "de4eaa4d",
   "metadata": {
    "execution": {
     "iopub.execute_input": "2024-03-15T05:18:31.322763Z",
     "iopub.status.busy": "2024-03-15T05:18:31.321878Z",
     "iopub.status.idle": "2024-03-15T05:18:31.328138Z",
     "shell.execute_reply": "2024-03-15T05:18:31.326908Z"
    },
    "papermill": {
     "duration": 0.048776,
     "end_time": "2024-03-15T05:18:31.330605",
     "exception": false,
     "start_time": "2024-03-15T05:18:31.281829",
     "status": "completed"
    },
    "tags": []
   },
   "outputs": [
    {
     "name": "stdout",
     "output_type": "stream",
     "text": [
      "************************************good bye************************************\n"
     ]
    }
   ],
   "source": [
    "print(np.char.center('good bye',80,'*'))"
   ]
  },
  {
   "cell_type": "code",
   "execution_count": null,
   "id": "48115a7d",
   "metadata": {
    "papermill": {
     "duration": 0.038274,
     "end_time": "2024-03-15T05:18:31.407705",
     "exception": false,
     "start_time": "2024-03-15T05:18:31.369431",
     "status": "completed"
    },
    "tags": []
   },
   "outputs": [],
   "source": []
  }
 ],
 "metadata": {
  "kaggle": {
   "accelerator": "none",
   "dataSources": [],
   "dockerImageVersionId": 30664,
   "isGpuEnabled": false,
   "isInternetEnabled": true,
   "language": "python",
   "sourceType": "notebook"
  },
  "kernelspec": {
   "display_name": "Python 3",
   "language": "python",
   "name": "python3"
  },
  "language_info": {
   "codemirror_mode": {
    "name": "ipython",
    "version": 3
   },
   "file_extension": ".py",
   "mimetype": "text/x-python",
   "name": "python",
   "nbconvert_exporter": "python",
   "pygments_lexer": "ipython3",
   "version": "3.10.13"
  },
  "papermill": {
   "default_parameters": {},
   "duration": 11.411545,
   "end_time": "2024-03-15T05:18:31.868056",
   "environment_variables": {},
   "exception": null,
   "input_path": "__notebook__.ipynb",
   "output_path": "__notebook__.ipynb",
   "parameters": {},
   "start_time": "2024-03-15T05:18:20.456511",
   "version": "2.5.0"
  }
 },
 "nbformat": 4,
 "nbformat_minor": 5
}
